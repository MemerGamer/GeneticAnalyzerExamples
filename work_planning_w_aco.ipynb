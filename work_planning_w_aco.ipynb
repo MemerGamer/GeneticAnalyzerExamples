{
 "cells": [
  {
   "cell_type": "markdown",
   "metadata": {
    "id": "1lISjFT-La9J"
   },
   "source": [
    "# WORKTIME PLANNING WITH ACO"
   ]
  },
  {
   "cell_type": "markdown",
   "metadata": {
    "id": "7iKmknuaLbft"
   },
   "source": [
    "## Task Description:\n",
    "A small business needs to assign various tasks to employees in such a way that the distribution of working hours is optimized. The goal is the following:\n",
    "1. Minimize the working hours difference between employees (i.e., ensure an even workload).\n",
    "2. Certain tasks can only be completed by specific employees. It is advisable to create a task assignment structure where we specify who can perform what tasks, broken down by tasks.\n",
    "3. The maximum daily working time for employees is 8 hours.\n",
    "\n",
    "Details:\n",
    "* Tasks: 10 tasks are given, each requiring different durations (in hours).\n",
    "  * tasks = [2, 4, 6, 1, 3, 5, 7, 3, 2, 4] # Duration of tasks (in hours)\n",
    "* Employees: 3 employees with different skills, so not all tasks can be completed by every employee.\n",
    "  * employees = [0, 1, 2] # 3 employees\n",
    "* Goal: Using the ACO (Ant Colony Optimization) algorithm, minimize the difference in working hours between the employee with the most hours and the employee with the least hours.\n",
    "\n",
    "Task Breakdown:\n",
    "1. Data initialization:\n",
    "  * List of tasks with their respective durations.\n",
    "  * List of employees to whom certain tasks can be assigned.\n",
    "  * A pheromone matrix that tracks the attractiveness of employee-task pairs.\n",
    "2. Transition probability calculation:\n",
    "  * The probability of assigning tasks to each employee is determined according to the ACO rules:\n",
    "\n",
    "\\begin{align*}\n",
    "P_{ij} = \\frac{\\tau_{ij}^\\alpha \\cdot \\eta_{ij}^\\beta}{\\sum_{k \\in S} \\tau_{ik}^\\alpha \\cdot \\eta_{ik}^\\beta}\n",
    "\\end{align*}\n",
    "where:\n",
    "- P_{ij}: Probability of transition from i to j.\n",
    "- \\tau_{ij}: Current pheromone level.\n",
    "- \\eta_{ij}: Heuristic information, which considers the remaining available working hours for the employee.\n",
    "- α,β: Weighting parameters that regulate the relative importance of pheromone and heuristic values.\n",
    "3. Path generation (solution creation):\n",
    "  * Each ant (iteration) tries to create a complete work schedule.\n",
    "4. Evaluation (fitness):\n",
    "  * The quality of the path is based on the working hours difference between employees.\n",
    "5. Pheromone update:\n",
    "  * Good solutions receive more pheromone, while less optimal solutions’ pheromones evaporate.\n",
    "\n",
    "Summary of Task Breakdown:\n",
    "1. Initial population generation: Random work schedules are created.\n",
    "2. Evaluation: The work schedules are evaluated based on the difference in working hours.\n",
    "3. Modifications (search steps): New schedules are created using crossover and mutation.\n",
    "4. Pheromone update: Based on the results, though here we use a simpler GA (Genetic Algorithm) implementation from DEAP.\n",
    "5. Displaying the best result: The final schedule optimizes the balance of working hours between employees.\n"
   ]
  },
  {
   "cell_type": "code",
   "execution_count": 49,
   "metadata": {
    "id": "DZUSiD1sLdUs"
   },
   "outputs": [
    {
     "name": "stdout",
     "output_type": "stream",
     "text": [
      "Requirement already satisfied: deap in ./.venv/lib/python3.12/site-packages (1.4.1)\n",
      "Requirement already satisfied: numpy in ./.venv/lib/python3.12/site-packages (2.2.0)\n",
      "Requirement already satisfied: geneticanalyzer in ./.venv/lib/python3.12/site-packages (1.1.3)\n",
      "Requirement already satisfied: matplotlib>=3.10.0 in ./.venv/lib/python3.12/site-packages (from geneticanalyzer) (3.10.0)\n",
      "Requirement already satisfied: networkx>=3.4.2 in ./.venv/lib/python3.12/site-packages (from geneticanalyzer) (3.4.2)\n",
      "Requirement already satisfied: pygraphviz>=1.14 in ./.venv/lib/python3.12/site-packages (from geneticanalyzer) (1.14)\n",
      "Requirement already satisfied: contourpy>=1.0.1 in ./.venv/lib/python3.12/site-packages (from matplotlib>=3.10.0->geneticanalyzer) (1.3.1)\n",
      "Requirement already satisfied: cycler>=0.10 in ./.venv/lib/python3.12/site-packages (from matplotlib>=3.10.0->geneticanalyzer) (0.12.1)\n",
      "Requirement already satisfied: fonttools>=4.22.0 in ./.venv/lib/python3.12/site-packages (from matplotlib>=3.10.0->geneticanalyzer) (4.55.3)\n",
      "Requirement already satisfied: kiwisolver>=1.3.1 in ./.venv/lib/python3.12/site-packages (from matplotlib>=3.10.0->geneticanalyzer) (1.4.7)\n",
      "Requirement already satisfied: packaging>=20.0 in ./.venv/lib/python3.12/site-packages (from matplotlib>=3.10.0->geneticanalyzer) (24.2)\n",
      "Requirement already satisfied: pillow>=8 in ./.venv/lib/python3.12/site-packages (from matplotlib>=3.10.0->geneticanalyzer) (11.0.0)\n",
      "Requirement already satisfied: pyparsing>=2.3.1 in ./.venv/lib/python3.12/site-packages (from matplotlib>=3.10.0->geneticanalyzer) (3.2.0)\n",
      "Requirement already satisfied: python-dateutil>=2.7 in ./.venv/lib/python3.12/site-packages (from matplotlib>=3.10.0->geneticanalyzer) (2.9.0.post0)\n",
      "Requirement already satisfied: six>=1.5 in ./.venv/lib/python3.12/site-packages (from python-dateutil>=2.7->matplotlib>=3.10.0->geneticanalyzer) (1.17.0)\n",
      "Note: you may need to restart the kernel to use updated packages.\n"
     ]
    }
   ],
   "source": [
    "%pip install deap numpy geneticanalyzer"
   ]
  },
  {
   "cell_type": "code",
   "execution_count": 50,
   "metadata": {
    "id": "NYAZ-1ApLmzj"
   },
   "outputs": [],
   "source": [
    "import random\n",
    "import numpy as np\n",
    "from deap import base, creator, tools, algorithms\n",
    "from geneticanalyzer import GeneticAnalyzer  "
   ]
  },
  {
   "cell_type": "code",
   "execution_count": 51,
   "metadata": {},
   "outputs": [],
   "source": [
    "tasks = [2, 4, 6, 1, 3, 5, 7, 3, 2, 4]\n",
    "# Task duration (in hours)\n",
    "employees = [0, 1, 2]\n",
    "# 3 employees"
   ]
  },
  {
   "cell_type": "code",
   "execution_count": 52,
   "metadata": {},
   "outputs": [],
   "source": [
    "# 1 can perform it\n",
    "# 0 cannot perform it\n",
    "task_availability = [\n",
    "    [1,1,1], # task 0\n",
    "    [1,1,0], # task 1\n",
    "    [0,1,1], # task 2\n",
    "    [1,1,1], # task 3\n",
    "    [0,1,1], # task 4\n",
    "    [1,0,1], # task 5\n",
    "    [1,1,0], # task 6\n",
    "    [0,1,1], # task 7\n",
    "    [1,1,0], # task 8\n",
    "    [1,1,1], # task 9\n",
    "]"
   ]
  },
  {
   "cell_type": "code",
   "execution_count": 53,
   "metadata": {},
   "outputs": [],
   "source": [
    "def fitness_fg(time):\n",
    "    workload = [0] * len(employees) \n",
    "    for task, employee in enumerate(time):\n",
    "        workload[employee] += tasks[task]\n",
    "    return (max(workload) - min(workload),)"
   ]
  },
  {
   "cell_type": "code",
   "execution_count": 54,
   "metadata": {},
   "outputs": [],
   "source": [
    "def random_schedule():\n",
    "    schedule = []\n",
    "    for task in range(len(tasks)):\n",
    "        valid_employees = [emp for emp, available in enumerate(task_availability[task]) if available]\n",
    "        schedule.append(random.choice(valid_employees))\n",
    "    return schedule"
   ]
  },
  {
   "cell_type": "code",
   "execution_count": 55,
   "metadata": {},
   "outputs": [],
   "source": [
    "# GA initialization\n",
    "creator.create(\"FitnessMin\", base=base.Fitness, weights=(-1.0,))\n",
    "creator.create(\"Individual\", list, fitness=creator.FitnessMin)"
   ]
  },
  {
   "cell_type": "code",
   "execution_count": 56,
   "metadata": {},
   "outputs": [],
   "source": [
    "# Toolbox settings\n",
    "toolbox = base.Toolbox()\n",
    "toolbox.register(\"random_schedule\", random_schedule)\n",
    "toolbox.register(\"individual\", tools.initIterate, creator.Individual,random_schedule)\n",
    "toolbox.register(\"population\", tools.initRepeat, list, toolbox.individual)"
   ]
  },
  {
   "cell_type": "code",
   "execution_count": 57,
   "metadata": {},
   "outputs": [],
   "source": [
    "# Genetic operators\n",
    "toolbox.register(\"evaluate\", fitness_fg)\n",
    "toolbox.register(\"mate\", tools.cxTwoPoint)\n",
    "toolbox.register(\"mutate\", tools.mutUniformInt, low=0, up= len(employees)-1, indpb= 0.2)\n",
    "toolbox.register(\"select\", tools.selTournament, tournsize=3)"
   ]
  },
  {
   "cell_type": "code",
   "execution_count": 58,
   "metadata": {},
   "outputs": [],
   "source": [
    "# Initialize GeneticAnalyzer\n",
    "analyzer = GeneticAnalyzer()"
   ]
  },
  {
   "cell_type": "code",
   "execution_count": 59,
   "metadata": {},
   "outputs": [],
   "source": [
    "# Running the evolution\n",
    "def run_evolution(pop_size=100, generations=50):\n",
    "    population = toolbox.population(n=pop_size)\n",
    "    stats = tools.Statistics(lambda ind: ind.fitness.values[0])\n",
    "    stats.register(\"avg\", lambda x: sum(x) / len(x))\n",
    "    stats.register(\"min\", np.min)\n",
    "    hof = tools.HallOfFame(1)\n",
    "\n",
    "    # Evaluate fitness for the initial population\n",
    "    for ind in population:\n",
    "        ind.fitness.values = toolbox.evaluate(ind)\n",
    "\n",
    "    # Register initial population in GeneticAnalyzer\n",
    "    for i, ind in enumerate(population):\n",
    "        analyzer.add_individual(\n",
    "            individual={\"genes\": ind, \"fitness\": ind.fitness.values[0]},\n",
    "            generation=0\n",
    "        )\n",
    "\n",
    "    for gen in range(1, generations + 1):\n",
    "        # Evaluate population and select for the next generation\n",
    "        offspring = toolbox.select(population, len(population))\n",
    "        offspring = list(map(toolbox.clone, offspring))\n",
    "        \n",
    "        # Perform crossover and mutation\n",
    "        for child1, child2 in zip(offspring[::2], offspring[1::2]):\n",
    "            if random.random() < 0.7:\n",
    "                toolbox.mate(child1, child2)\n",
    "                del child1.fitness.values\n",
    "                del child2.fitness.values\n",
    "        for mutant in offspring:\n",
    "            if random.random() < 0.2:\n",
    "                toolbox.mutate(mutant)\n",
    "                del mutant.fitness.values\n",
    "\n",
    "        # Evaluate the new offspring\n",
    "        for ind in offspring:\n",
    "            ind.fitness.values = toolbox.evaluate(ind)\n",
    "        \n",
    "        population[:] = offspring  # Update population\n",
    "\n",
    "        # Update Hall of Fame\n",
    "        hof.update(population)\n",
    "\n",
    "        # Register individuals in GeneticAnalyzer for each generation\n",
    "        for i, ind in enumerate(population):\n",
    "            analyzer.add_individual(\n",
    "                individual={\"genes\": ind, \"fitness\": ind.fitness.values[0]},\n",
    "                generation=gen\n",
    "            )\n",
    "\n",
    "    return population, hof"
   ]
  },
  {
   "cell_type": "code",
   "execution_count": 60,
   "metadata": {},
   "outputs": [
    {
     "name": "stdout",
     "output_type": "stream",
     "text": [
      "\n",
      "Best schedule: [0, 1, 2, 0, 1, 0, 1, 2, 0, 0]\n",
      "\n",
      "Workload per employee: [14, 14, 9]\n",
      "\n",
      "Fitness value:  5.0\n"
     ]
    },
    {
     "data": {
      "image/png": "[encoded data removed]",
      "text/plain": [
       "<Figure size 1600x1200 with 1 Axes>"
      ]
     },
     "metadata": {},
     "output_type": "display_data"
    }
   ],
   "source": [
    "# Main execution\n",
    "if __name__ == \"__main__\":\n",
    "    pop, hof = run_evolution(pop_size=5, generations=5)\n",
    "\n",
    "    # Display results\n",
    "    print(\"\\nBest schedule:\", hof[0])\n",
    "\n",
    "    # Calculate workload for the best individual\n",
    "    workload = [0] * len(employees)\n",
    "    for task, emp in enumerate(hof[0]):\n",
    "        workload[emp] += tasks[task]\n",
    "\n",
    "    print(\"\\nWorkload per employee:\", workload)\n",
    "    print(\"\\nFitness value: \", hof[0].fitness.values[0])\n",
    "\n",
    "    # Visualize the family tree (directly using hof[0])\n",
    "    # Find the index of hof[0] using a comparison based on fitness values or genes\n",
    "    best_individual_index = next(\n",
    "        (i for i, ind in enumerate(pop) if ind.fitness.values == hof[0].fitness.values), \n",
    "        None  # Default to None if no match is found\n",
    "    )\n",
    "\n",
    "    # Check if the individual was found in the population\n",
    "    if best_individual_index is not None:\n",
    "        analyzer.visualize_tree(highlight_best=best_individual_index, layout=\"dot\")\n",
    "    else:\n",
    "        print(\"Best individual from the Hall of Fame was not found in the population.\")\n",
    "\n",
    "        analyzer.visualize_tree(highlight_best=best_individual_index, layout=\"spring\")\n"
   ]
  }
 ],
 "metadata": {
  "colab": {
   "collapsed_sections": [
    "Sz0i0ZsSLfcr"
   ],
   "provenance": []
  },
  "kernelspec": {
   "display_name": ".venv",
   "language": "python",
   "name": "python3"
  },
  "language_info": {
   "codemirror_mode": {
    "name": "ipython",
    "version": 3
   },
   "file_extension": ".py",
   "mimetype": "text/x-python",
   "name": "python",
   "nbconvert_exporter": "python",
   "pygments_lexer": "ipython3",
   "version": "3.12.7"
  }
 },
 "nbformat": 4,
 "nbformat_minor": 0
}
