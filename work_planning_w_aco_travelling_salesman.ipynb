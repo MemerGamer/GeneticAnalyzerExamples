{
 "cells": [
  {
   "cell_type": "markdown",
   "metadata": {
    "id": "1lISjFT-La9J"
   },
   "source": [
    "# WORKTIME PLANNING WITH ACO"
   ]
  },
  {
   "cell_type": "markdown",
   "metadata": {
    "id": "7iKmknuaLbft"
   },
   "source": [
    "## Task Description:\n",
    "A small business needs to assign various tasks to employees in such a way that the distribution of working hours is optimized. The goal is the following:\n",
    "1. Minimize the working hours difference between employees (i.e., ensure an even workload).\n",
    "2. Certain tasks can only be completed by specific employees. It is advisable to create a task assignment structure where we specify who can perform what tasks, broken down by tasks.\n",
    "3. The maximum daily working time for employees is 8 hours.\n",
    "\n",
    "Details:\n",
    "* Tasks: 10 tasks are given, each requiring different durations (in hours).\n",
    "  * tasks = [2, 4, 6, 1, 3, 5, 7, 3, 2, 4] # Duration of tasks (in hours)\n",
    "* Employees: 3 employees with different skills, so not all tasks can be completed by every employee.\n",
    "  * employees = [0, 1, 2] # 3 employees\n",
    "* Goal: Using the ACO (Ant Colony Optimization) algorithm, minimize the difference in working hours between the employee with the most hours and the employee with the least hours.\n",
    "\n",
    "Task Breakdown:\n",
    "1. Data initialization:\n",
    "  * List of tasks with their respective durations.\n",
    "  * List of employees to whom certain tasks can be assigned.\n",
    "  * A pheromone matrix that tracks the attractiveness of employee-task pairs.\n",
    "2. Transition probability calculation:\n",
    "  * The probability of assigning tasks to each employee is determined according to the ACO rules:\n",
    "\n",
    "\\begin{align*}\n",
    "P_{ij} = \\frac{\\tau_{ij}^\\alpha \\cdot \\eta_{ij}^\\beta}{\\sum_{k \\in S} \\tau_{ik}^\\alpha \\cdot \\eta_{ik}^\\beta}\n",
    "\\end{align*}\n",
    "where:\n",
    "- P_{ij}: Probability of transition from i to j.\n",
    "- \\tau_{ij}: Current pheromone level.\n",
    "- \\eta_{ij}: Heuristic information, which considers the remaining available working hours for the employee.\n",
    "- α,β: Weighting parameters that regulate the relative importance of pheromone and heuristic values.\n",
    "3. Path generation (solution creation):\n",
    "  * Each ant (iteration) tries to create a complete work schedule.\n",
    "4. Evaluation (fitness):\n",
    "  * The quality of the path is based on the working hours difference between employees.\n",
    "5. Pheromone update:\n",
    "  * Good solutions receive more pheromone, while less optimal solutions’ pheromones evaporate.\n",
    "\n",
    "Summary of Task Breakdown:\n",
    "1. Initial population generation: Random work schedules are created.\n",
    "2. Evaluation: The work schedules are evaluated based on the difference in working hours.\n",
    "3. Modifications (search steps): New schedules are created using crossover and mutation.\n",
    "4. Pheromone update: Based on the results, though here we use a simpler GA (Genetic Algorithm) implementation from DEAP.\n",
    "5. Displaying the best result: The final schedule optimizes the balance of working hours between employees.\n"
   ]
  },
  {
   "cell_type": "code",
   "execution_count": 2,
   "metadata": {
    "id": "DZUSiD1sLdUs"
   },
   "outputs": [
    {
     "name": "stdout",
     "output_type": "stream",
     "text": [
      "Requirement already satisfied: deap in ./.venv/lib/python3.12/site-packages (1.4.1)\n",
      "Requirement already satisfied: numpy in ./.venv/lib/python3.12/site-packages (2.2.0)\n",
      "Requirement already satisfied: geneticanalyzer in ./.venv/lib/python3.12/site-packages (1.1.4)\n",
      "Requirement already satisfied: matplotlib>=3.10.0 in ./.venv/lib/python3.12/site-packages (from geneticanalyzer) (3.10.0)\n",
      "Requirement already satisfied: networkx>=3.4.2 in ./.venv/lib/python3.12/site-packages (from geneticanalyzer) (3.4.2)\n",
      "Requirement already satisfied: pygraphviz>=1.14 in ./.venv/lib/python3.12/site-packages (from geneticanalyzer) (1.14)\n",
      "Requirement already satisfied: scipy>=1.14.1 in ./.venv/lib/python3.12/site-packages (from geneticanalyzer) (1.14.1)\n",
      "Requirement already satisfied: contourpy>=1.0.1 in ./.venv/lib/python3.12/site-packages (from matplotlib>=3.10.0->geneticanalyzer) (1.3.1)\n",
      "Requirement already satisfied: cycler>=0.10 in ./.venv/lib/python3.12/site-packages (from matplotlib>=3.10.0->geneticanalyzer) (0.12.1)\n",
      "Requirement already satisfied: fonttools>=4.22.0 in ./.venv/lib/python3.12/site-packages (from matplotlib>=3.10.0->geneticanalyzer) (4.55.3)\n",
      "Requirement already satisfied: kiwisolver>=1.3.1 in ./.venv/lib/python3.12/site-packages (from matplotlib>=3.10.0->geneticanalyzer) (1.4.7)\n",
      "Requirement already satisfied: packaging>=20.0 in ./.venv/lib/python3.12/site-packages (from matplotlib>=3.10.0->geneticanalyzer) (24.2)\n",
      "Requirement already satisfied: pillow>=8 in ./.venv/lib/python3.12/site-packages (from matplotlib>=3.10.0->geneticanalyzer) (11.0.0)\n",
      "Requirement already satisfied: pyparsing>=2.3.1 in ./.venv/lib/python3.12/site-packages (from matplotlib>=3.10.0->geneticanalyzer) (3.2.0)\n",
      "Requirement already satisfied: python-dateutil>=2.7 in ./.venv/lib/python3.12/site-packages (from matplotlib>=3.10.0->geneticanalyzer) (2.9.0.post0)\n",
      "Requirement already satisfied: six>=1.5 in ./.venv/lib/python3.12/site-packages (from python-dateutil>=2.7->matplotlib>=3.10.0->geneticanalyzer) (1.17.0)\n",
      "Note: you may need to restart the kernel to use updated packages.\n"
     ]
    }
   ],
   "source": [
    "%pip install deap numpy geneticanalyzer"
   ]
  },
  {
   "cell_type": "markdown",
   "metadata": {},
   "source": [
    "# WORKTIME PLANNING WITH ACO - Solution based on travelling salesman solution"
   ]
  },
  {
   "cell_type": "code",
   "execution_count": null,
   "metadata": {},
   "outputs": [
    {
     "name": "stdout",
     "output_type": "stream",
     "text": [
      "\n",
      "Legjobb munkarend: [np.int64(1), np.int64(1), np.int64(2), np.int64(2), np.int64(0)]\n",
      "\n",
      "Workload: [6, 7, 7]\n",
      "Best fitness: 1\n"
     ]
    }
   ],
   "source": [
    "import numpy as np\n",
    "import random\n",
    "from geneticanalyzer import GeneticAnalyzer\n",
    "tasks = [3, 4, 2, 5, 6] #(munkaórák).\n",
    "task_availability = [[0, 1], [1, 2], [0, 2], [1, 2], [0, 1]]# (melyik feladatot ki végezheti el).\n",
    "\n",
    "employees = [8, 8, 8] #(óra).\n",
    "\n",
    "#ACO parameterei\n",
    "ants = 10 #(hangya).\n",
    "iteration = 50\n",
    "evaporation_rate = 0.5\n",
    "alpha = 1\n",
    "beta = 2\n",
    "q0 = 0.9\n",
    "\n",
    "# inicializalas\n",
    "num_tasks = len(tasks)\n",
    "num_employees = len(employees)\n",
    "\n",
    "# feromon matrix\n",
    "pheromones = np.ones((num_tasks, num_employees))\n",
    "\n",
    "# heurisztikus resz inicializalasa\n",
    "heuristics = np.array([[1 if employee in task_availability[task] else 0 for employee in range(num_employees)] for task in range(num_tasks)])\n",
    "\n",
    "def fittness_fg(schedule):\n",
    "  workload = [0] * len(employees)\n",
    "  for task, emp in enumerate(schedule):\n",
    "    workload[emp] += tasks[task]\n",
    "  fitness = max(workload) - min(workload)\n",
    "  return fitness\n",
    "\n",
    "# utvalasztas valoszinusege\n",
    "def choose_task_employee(task, pheromones, heuristics):\n",
    "  probabilities = np.zeros(num_employees)\n",
    "  for employee in range(num_employees):\n",
    "    if heuristics[task][employee] == 1:\n",
    "      probabilities[employee] = pheromones[task][employee] ** alpha * heuristics[task][employee] ** beta\n",
    "\n",
    "  prob_sum = np.sum(probabilities)\n",
    "  probabilities /= prob_sum\n",
    "\n",
    "  return np.random.choice(np.arange(num_employees), p=probabilities)\n",
    "\n",
    "# hangya algoritmus\n",
    "def ant_colony_optimization():\n",
    "  global pheromones\n",
    "  best_solution = None\n",
    "  best_fitness = float('inf')\n",
    "\n",
    "  for _ in range(iteration):\n",
    "    solutions = []\n",
    "    for _ in range(ants):\n",
    "      solution = []\n",
    "      for task in range(num_tasks):\n",
    "        employee = choose_task_employee(task, pheromones, heuristics)\n",
    "        solution.append(employee)\n",
    "\n",
    "      fitness = fittness_fg(solution)\n",
    "      solutions.append((solution, fitness))\n",
    "\n",
    "      if fitness < best_fitness:\n",
    "        best_fitness = fitness\n",
    "        best_solution = solution\n",
    "    # feromonok frissitese\n",
    "    pheromones *= (1 - evaporation_rate)\n",
    "    for solution, fitness in solutions:\n",
    "      for task, employee in enumerate(solution):\n",
    "        pheromones[task][employee] += 1.0 / (fitness + 1e-06)\n",
    "\n",
    "  return best_solution, best_fitness\n",
    "\n",
    "# main\n",
    "if __name__ == '__main__':\n",
    "  best_solution, best_fitness = ant_colony_optimization()\n",
    "  print(\"\\nLegjobb munkarend:\", best_solution)\n",
    "  workload = [0] * len(employees)\n",
    "  for task, emp in enumerate(best_solution):\n",
    "    workload[emp] += tasks[task]\n",
    "\n",
    "  print(\"\\nWorkload:\", workload)\n",
    "\n",
    "\n",
    "  print(\"Best fitness:\", best_fitness)\n"
   ]
  }
 ],
 "metadata": {
  "colab": {
   "collapsed_sections": [
    "Sz0i0ZsSLfcr"
   ],
   "provenance": []
  },
  "kernelspec": {
   "display_name": ".venv",
   "language": "python",
   "name": "python3"
  },
  "language_info": {
   "codemirror_mode": {
    "name": "ipython",
    "version": 3
   },
   "file_extension": ".py",
   "mimetype": "text/x-python",
   "name": "python",
   "nbconvert_exporter": "python",
   "pygments_lexer": "ipython3",
   "version": "3.12.7"
  }
 },
 "nbformat": 4,
 "nbformat_minor": 0
}
